{
 "cells": [
  {
   "cell_type": "markdown",
   "metadata": {},
   "source": [
    "# k-means test tutorial\n",
    "***\n",
    "##### In this notebook, I'll try to use kMeans over a simple 2-features dataset (to plot the result), I'll eventually use and explain the Elbow and Silhouette evaluation methods.\n",
    "First of all, we need to import **numpy** **matplotlib.pyplot** **pandas** and of course **kMeans**"
   ]
  },
  {
   "cell_type": "code",
   "execution_count": 6,
   "metadata": {},
   "outputs": [],
   "source": [
    "import numpy as np\n",
    "import pandas as pd\n",
    "import matplotlib.pyplot as plt\n",
    "import sys; sys.path.insert(0, '.')"
   ]
  },
  {
   "cell_type": "markdown",
   "metadata": {},
   "source": [
    "##### Now we import our dataset, thanks to Pandas this is going to be simple"
   ]
  },
  {
   "cell_type": "code",
   "execution_count": 7,
   "metadata": {},
   "outputs": [
    {
     "name": "stdout",
     "output_type": "stream",
     "text": [
      "   ID   x1    x2\n",
      "0   0  5.0  5.00\n",
      "1   1  5.1  6.00\n",
      "2   2  4.0  4.25\n",
      "3   3  7.0  6.50\n"
     ]
    }
   ],
   "source": [
    "data = pd.read_csv('./datasets/kmeans.csv')\n",
    "print(data.head(4))"
   ]
  },
  {
   "cell_type": "markdown",
   "metadata": {},
   "source": [
    "##### Next we convert our pandas DataFrame into a numpy array by:"
   ]
  },
  {
   "cell_type": "code",
   "execution_count": 8,
   "metadata": {},
   "outputs": [
    {
     "name": "stdout",
     "output_type": "stream",
     "text": [
      "[[ 0.      5.      5.    ]\n",
      " [ 1.      5.1     6.    ]\n",
      " [ 2.      4.      4.25  ]\n",
      " [ 3.      7.      6.5   ]\n",
      " [ 4.      6.5     7.9   ]\n",
      " [ 5.      0.      0.    ]\n",
      " [ 6.     -2.      3.    ]\n",
      " [ 7.     -2.1     4.255 ]\n",
      " [ 8.     -3.      5.1116]\n",
      " [ 9.     -4.      4.    ]\n",
      " [10.     -3.9     5.    ]\n",
      " [11.     -3.5     4.6667]\n",
      " [13.     -1.      3.    ]\n",
      " [14.     -1.78    3.99  ]\n",
      " [15.     -6.      3.    ]\n",
      " [16.     -5.5     4.5   ]\n",
      " [17.     -5.      4.99  ]\n",
      " [18.      2.      5.23  ]\n",
      " [19.     -4.      8.78  ]\n",
      " [20.     -4.3     7.23  ]\n",
      " [21.     -5.      9.    ]\n",
      " [22.      3.      2.22  ]\n",
      " [23.      3.34    6.    ]\n",
      " [24.      4.1     7.11  ]\n",
      " [25.      3.65    3.65  ]\n",
      " [26.     -3.24    5.111 ]\n",
      " [27.     -6.      8.1   ]\n",
      " [28.     -5.      7.566 ]\n",
      " [29.     -7.5     9.12  ]\n",
      " [30.      4.      5.23  ]\n",
      " [31.      0.     -1.    ]\n",
      " [32.     -0.5    -1.9   ]\n",
      " [33.      2.      0.56  ]\n",
      " [34.      0.      0.45  ]\n",
      " [35.      1.5    -3.    ]\n",
      " [36.     -3.5    -3.    ]\n",
      " [37.     -2.5     1.    ]\n",
      " [38.      1.      0.8   ]\n",
      " [39.     -2.      0.    ]\n",
      " [40.     -3.      0.    ]\n",
      " [41.     -2.      1.    ]\n",
      " [42.     -2.21    0.255 ]\n",
      " [43.     -1.     -1.    ]]\n"
     ]
    }
   ],
   "source": [
    "X = data.to_numpy()\n",
    "print(X)"
   ]
  },
  {
   "cell_type": "markdown",
   "metadata": {},
   "source": [
    "##### Let's try now to visualize the data and get insights about the number of clusters:\n",
    "remark that the first column represent the sample key (ID) and the 2nd and 3rd column are the features of out training set, we'll name X1 X2 the first and second respectively"
   ]
  },
  {
   "cell_type": "code",
   "execution_count": 9,
   "metadata": {},
   "outputs": [
    {
     "name": "stdout",
     "output_type": "stream",
     "text": [
      "_______________________________________________________________________________\n",
      "Feature1: \n",
      "[ 5.    5.1   4.    7.    6.5   0.   -2.   -2.1  -3.   -4.   -3.9  -3.5\n",
      " -1.   -1.78 -6.   -5.5  -5.    2.   -4.   -4.3  -5.    3.    3.34  4.1\n",
      "  3.65 -3.24 -6.   -5.   -7.5   4.    0.   -0.5   2.    0.    1.5  -3.5\n",
      " -2.5   1.   -2.   -3.   -2.   -2.21 -1.  ]\n",
      "_______________________________________________________________________________\n",
      "Feature1:\n",
      "[ 5.      6.      4.25    6.5     7.9     0.      3.      4.255   5.1116\n",
      "  4.      5.      4.6667  3.      3.99    3.      4.5     4.99    5.23\n",
      "  8.78    7.23    9.      2.22    6.      7.11    3.65    5.111   8.1\n",
      "  7.566   9.12    5.23   -1.     -1.9     0.56    0.45   -3.     -3.\n",
      "  1.      0.8     0.      0.      1.      0.255  -1.    ]\n"
     ]
    }
   ],
   "source": [
    "X1 = X[:, 1]\n",
    "X2 = X[:, 2]\n",
    "print('_______________________________________________________________________________')\n",
    "print('Feature1: ')\n",
    "print(X1)\n",
    "print('_______________________________________________________________________________')\n",
    "print('Feature1:')\n",
    "print(X2)"
   ]
  },
  {
   "cell_type": "markdown",
   "metadata": {},
   "source": [
    "Then thanks to pyplot, we'll plot the two Features in 2D Space:"
   ]
  },
  {
   "cell_type": "code",
   "execution_count": 13,
   "metadata": {},
   "outputs": [
    {
     "data": {
      "image/png": "[encoded data removed]",
      "text/plain": [
       "<Figure size 600x600 with 1 Axes>"
      ]
     },
     "metadata": {},
     "output_type": "display_data"
    }
   ],
   "source": [
    "plt.figure(figsize=(10, 10), dpi=60, edgecolor='b', facecolor='#f1f1f1')\n",
    "ax = plt.gca()\n",
    "ax.set_facecolor('#1d1d1d')\n",
    "ax.scatter(X1, X2, s=200, marker='^', c='w')\n",
    "plt.show()"
   ]
  },
  {
   "cell_type": "markdown",
   "metadata": {},
   "source": [
    "##### as we can see, the set can be subdivised into clusters and a fair choice would be 4"
   ]
  }
 ],
 "metadata": {
  "kernelspec": {
   "display_name": "Python 3",
   "language": "python",
   "name": "python3"
  },
  "language_info": {
   "codemirror_mode": {
    "name": "ipython",
    "version": 3
   },
   "file_extension": ".py",
   "mimetype": "text/x-python",
   "name": "python",
   "nbconvert_exporter": "python",
   "pygments_lexer": "ipython3",
   "version": "3.8.2"
  }
 },
 "nbformat": 4,
 "nbformat_minor": 4
}
