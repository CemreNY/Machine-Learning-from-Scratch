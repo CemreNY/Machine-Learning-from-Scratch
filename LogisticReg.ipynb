{
 "cells": [
  {
   "cell_type": "markdown",
   "metadata": {},
   "source": [
    "# LogisticReg Test\n",
    "***\n",
    "In this notebook, I'll try to use my logistic regression implementation (LogisticReg) over a simple datasets I created, this training data consists of 18 surface points labeled either 0 or 1, this points can be separated by a circle.\n",
    "\n",
    "First of all, we import:\n",
    "1. *numpy* for linear algebra (matrix handling) though it's not required, it's already imported by LinearReg\n",
    "2. *matplotlib.pyplot* to do some plotting and see the results\n",
    "3. *pandas* to load the data from a csv file\n",
    "4. *LogisticReg* (personal implementation)"
   ]
  },
  {
   "cell_type": "code",
   "execution_count": 1,
   "metadata": {},
   "outputs": [],
   "source": [
    "import numpy as np\n",
    "import pandas as pd\n",
    "import matplotlib.pyplot as plt\n",
    "from LogisticReg import LogisticReg as lgr"
   ]
  },
  {
   "cell_type": "markdown",
   "metadata": {},
   "source": [
    "Now let's load our dataset:"
   ]
  },
  {
   "cell_type": "code",
   "execution_count": 2,
   "metadata": {},
   "outputs": [],
   "source": [
    "data = pd.read_csv('./datasets/LogisticReg.csv')"
   ]
  },
  {
   "cell_type": "markdown",
   "metadata": {},
   "source": [
    "To visualize the structure, we can use the .head(n) method to return the first *n* rows:"
   ]
  },
  {
   "cell_type": "code",
   "execution_count": 3,
   "metadata": {},
   "outputs": [
    {
     "data": {
      "text/html": [
       "<div>\n",
       "<style scoped>\n",
       "    .dataframe tbody tr th:only-of-type {\n",
       "        vertical-align: middle;\n",
       "    }\n",
       "\n",
       "    .dataframe tbody tr th {\n",
       "        vertical-align: top;\n",
       "    }\n",
       "\n",
       "    .dataframe thead th {\n",
       "        text-align: right;\n",
       "    }\n",
       "</style>\n",
       "<table border=\"1\" class=\"dataframe\">\n",
       "  <thead>\n",
       "    <tr style=\"text-align: right;\">\n",
       "      <th></th>\n",
       "      <th>ID</th>\n",
       "      <th>x1</th>\n",
       "      <th>x2</th>\n",
       "      <th>y</th>\n",
       "    </tr>\n",
       "  </thead>\n",
       "  <tbody>\n",
       "    <tr>\n",
       "      <th>0</th>\n",
       "      <td>0</td>\n",
       "      <td>0.0</td>\n",
       "      <td>0.00</td>\n",
       "      <td>0</td>\n",
       "    </tr>\n",
       "    <tr>\n",
       "      <th>1</th>\n",
       "      <td>1</td>\n",
       "      <td>0.0</td>\n",
       "      <td>0.70</td>\n",
       "      <td>0</td>\n",
       "    </tr>\n",
       "    <tr>\n",
       "      <th>2</th>\n",
       "      <td>2</td>\n",
       "      <td>-0.5</td>\n",
       "      <td>0.50</td>\n",
       "      <td>0</td>\n",
       "    </tr>\n",
       "    <tr>\n",
       "      <th>3</th>\n",
       "      <td>3</td>\n",
       "      <td>-0.5</td>\n",
       "      <td>1.23</td>\n",
       "      <td>0</td>\n",
       "    </tr>\n",
       "  </tbody>\n",
       "</table>\n",
       "</div>"
      ],
      "text/plain": [
       "   ID   x1    x2  y\n",
       "0   0  0.0  0.00  0\n",
       "1   1  0.0  0.70  0\n",
       "2   2 -0.5  0.50  0\n",
       "3   3 -0.5  1.23  0"
      ]
     },
     "execution_count": 3,
     "metadata": {},
     "output_type": "execute_result"
    }
   ],
   "source": [
    "data.head(4)"
   ]
  },
  {
   "cell_type": "markdown",
   "metadata": {},
   "source": [
    "Now we extract our features' matrix & labels vector by:"
   ]
  },
  {
   "cell_type": "code",
   "execution_count": 4,
   "metadata": {},
   "outputs": [
    {
     "name": "stdout",
     "output_type": "stream",
     "text": [
      "X: \n",
      "[[ 0.    0.  ]\n",
      " [ 0.    0.7 ]\n",
      " [-0.5   0.5 ]\n",
      " [-0.5   1.23]]\n",
      "\n",
      "feature vector =  [0 0 0 0 0 0 0 0 0 1 1 1 1 1 1 1 1 1]\n"
     ]
    }
   ],
   "source": [
    "X = data.iloc[:, 1:3].to_numpy(dtype=np.float32)\n",
    "y = data.iloc[:, 3].to_numpy(dtype=np.int32)\n",
    "\n",
    "print('X: ')\n",
    "print(X[:4, :]) # print first 4 rows\n",
    "print('')\n",
    "print('feature vector = ', y)"
   ]
  },
  {
   "cell_type": "markdown",
   "metadata": {},
   "source": [
    "Below, using pyplot I visualize the data on a 2D Surface:"
   ]
  },
  {
   "cell_type": "code",
   "execution_count": 5,
   "metadata": {},
   "outputs": [
    {
     "data": {
      "image/png": "[encoded data removed]",
      "text/plain": [
       "<Figure size 880x480 with 1 Axes>"
      ]
     },
     "metadata": {},
     "output_type": "display_data"
    }
   ],
   "source": [
    "X1 = X[:, 0] # feature 1\n",
    "X2 = X[:, 1] # feature 2\n",
    "\n",
    "X1_True = np.array([x1 for ind, x1 in enumerate(X1) if y[ind] == 1]) # x1's labeled true (1)\n",
    "X2_True = np.array([x2 for ind, x2 in enumerate(X2) if y[ind] == 1]) # x2's labeled true (1)\n",
    "\n",
    "\n",
    "X1_False = np.array([x1 for ind, x1 in enumerate(X1) if y[ind] == 0]) # x1's labeled true (0))\n",
    "X2_False = np.array([x2 for ind, x2 in enumerate(X2) if y[ind] == 0]) # x2's labeled true (0)\n",
    "\n",
    "\n",
    "fig = plt.figure(figsize=(11, 6), dpi=80, facecolor='#e1e1e1')\n",
    "ax = fig.add_subplot(111)\n",
    "ax.set_facecolor('#1d1d1d') # some dark background\n",
    "\n",
    "ax.scatter(X1_True, X2_True, marker='x', c='w', s=400)\n",
    "ax.scatter(X1_False, X2_False, marker='o', c='w', s=400)\n",
    "\n",
    "plt.ylim((-5, 6)) # y axis range\n",
    "plt.xlim((-1.5, 2.5)) # x axis range\n",
    "\n",
    "plt.title('Data-Points')\n",
    "plt.xlabel('Feature X1')\n",
    "plt.ylabel('Feature X2')\n",
    "\n",
    "plt.grid(color='#313131')\n",
    "\n",
    "plt.show() # show plot"
   ]
  },
  {
   "cell_type": "markdown",
   "metadata": {},
   "source": [
    "As we can see, our data-points are not linearly separable, but can be separated with a circle, an ellipse, so it would be essential to add polynomial features (to degree 2 is enough), below I just keep the new polynomial features as they're sufficient to get a good accuracy."
   ]
  },
  {
   "cell_type": "code",
   "execution_count": 6,
   "metadata": {},
   "outputs": [
    {
     "name": "stdout",
     "output_type": "stream",
     "text": [
      "model successfully trained!\n",
      "model converged ? =  1\n"
     ]
    }
   ],
   "source": [
    "X_sqr = X ** 2\n",
    "X_sqr = np.insert(X_sqr, [0], 1, axis=1)\n",
    "\n",
    "model = lgr().fit(X_sqr, y, learning_rate=0.01, regularization_rate=0, tol=1e-4, max_iter=1200,\n",
    "                  verbose=0) # train using gradient descent\n",
    "\n",
    "print('model successfully trained!')\n",
    "print('model converged ? = ', model.converged_)"
   ]
  },
  {
   "cell_type": "markdown",
   "metadata": {},
   "source": [
    "If you want to see the training progression per iteration, just set verbose=1 in fit params, now we trained our model, we can get insights about how well does the model fit the data by using the metrics returned by *mode.confusion_matrix()*:"
   ]
  },
  {
   "cell_type": "code",
   "execution_count": 7,
   "metadata": {},
   "outputs": [
    {
     "data": {
      "text/html": [
       "<div>\n",
       "<style scoped>\n",
       "    .dataframe tbody tr th:only-of-type {\n",
       "        vertical-align: middle;\n",
       "    }\n",
       "\n",
       "    .dataframe tbody tr th {\n",
       "        vertical-align: top;\n",
       "    }\n",
       "\n",
       "    .dataframe thead th {\n",
       "        text-align: right;\n",
       "    }\n",
       "</style>\n",
       "<table border=\"1\" class=\"dataframe\">\n",
       "  <thead>\n",
       "    <tr style=\"text-align: right;\">\n",
       "      <th></th>\n",
       "      <th>predicted-as-1</th>\n",
       "      <th>predicted-as-0</th>\n",
       "    </tr>\n",
       "  </thead>\n",
       "  <tbody>\n",
       "    <tr>\n",
       "      <th>actual-1</th>\n",
       "      <td>9</td>\n",
       "      <td>0</td>\n",
       "    </tr>\n",
       "    <tr>\n",
       "      <th>actual-0</th>\n",
       "      <td>0</td>\n",
       "      <td>9</td>\n",
       "    </tr>\n",
       "  </tbody>\n",
       "</table>\n",
       "</div>"
      ],
      "text/plain": [
       "          predicted-as-1  predicted-as-0\n",
       "actual-1               9               0\n",
       "actual-0               0               9"
      ]
     },
     "execution_count": 7,
     "metadata": {},
     "output_type": "execute_result"
    }
   ],
   "source": [
    "cmatrix, precision, recall, f1_score, accuracy = model.confusion_matrix(X_sqr, y)\n",
    "pd_cmatrix = pd.DataFrame(data=cmatrix, columns=['predicted-as-1', 'predicted-as-0'], \n",
    "                          index=['actual-1', 'actual-0'])\n",
    "pd_cmatrix.head(2)"
   ]
  },
  {
   "cell_type": "code",
   "execution_count": 8,
   "metadata": {},
   "outputs": [
    {
     "name": "stdout",
     "output_type": "stream",
     "text": [
      "accuracy =  1.0\n",
      "precision =  1.0\n",
      "recall =  1.0\n",
      "f1_score =  1.0\n"
     ]
    }
   ],
   "source": [
    "print('accuracy = ', accuracy)\n",
    "print('precision = ', precision)\n",
    "print('recall = ', recall)\n",
    "print('f1_score = ', f1_score)"
   ]
  },
  {
   "cell_type": "markdown",
   "metadata": {},
   "source": [
    "The model has well fit the training data, since it's just for explanation purposes and the data doesn't signify anything, I didn't use any validation nor a test set but in real world problems thos steps are mendatory to get a good model and make the best variance-bias trade off.\n",
    "\n",
    "Below I plot on the surface the points of our datasets all with the decision boundary."
   ]
  },
  {
   "cell_type": "code",
   "execution_count": 14,
   "metadata": {},
   "outputs": [
    {
     "data": {
      "image/png": "[encoded data removed]",
      "text/plain": [
       "<Figure size 880x480 with 1 Axes>"
      ]
     },
     "metadata": {},
     "output_type": "display_data"
    }
   ],
   "source": [
    "x1_range = np.arange(-1.5, 2.5, 0.1)\n",
    "x2_range = np.arange(-5, 6, 0.1)\n",
    "X_range = []\n",
    "for x1 in x1_range:\n",
    "    for x2 in x2_range:\n",
    "        X_range.append([x1, x2])\n",
    "X_range = np.array(X_range)\n",
    "\n",
    "X_range_sqr = X_range ** 2\n",
    "\n",
    "X_range_sqr = np.insert(X_range_sqr, [0], 1, axis=1) # 1dd bias feature\n",
    "y_range = model.predict(X_range_sqr, prob=0, thresh=0.5)\n",
    "\n",
    "x1_range_true = np.array([x1 for ind, x1 in enumerate(X_range[:, 0]) if y_range[ind] == 1])\n",
    "x2_range_true = np.array([x2 for ind, x2 in enumerate(X_range[:, 1]) if y_range[ind] == 1])\n",
    "\n",
    "x1_range_false = np.array([x1 for ind, x1 in enumerate(X_range[:, 0]) if y_range[ind] == 0])\n",
    "x2_range_false = np.array([x2 for ind, x2 in enumerate(X_range[:, 1]) if y_range[ind] == 0])\n",
    "\n",
    "fig = plt.figure(figsize=(11, 6), dpi=80, facecolor='#e1e1e1')\n",
    "ax = fig.add_subplot(111)\n",
    "ax.set_facecolor('#1d1d1d')\n",
    "\n",
    "ax.scatter(x1_range_true, x2_range_true, marker='o', c='#1d1d1d', s=400)\n",
    "ax.scatter(x1_range_false, x2_range_false, marker='o', c='r', s=400)\n",
    "\n",
    "ax.scatter(X1_True, X2_True, marker='x', c='w', s=400)\n",
    "ax.scatter(X1_False, X2_False, marker='o', c='w', s=400)\n",
    "\n",
    "plt.ylim((-5, 6))\n",
    "plt.xlim((-1.5, 2.5))\n",
    "\n",
    "plt.title('Data-Points')\n",
    "plt.xlabel('Feature X1')\n",
    "plt.ylabel('Feature X2')\n",
    "\n",
    "plt.grid(color='#313131')\n",
    "\n",
    "plt.show()"
   ]
  },
  {
   "cell_type": "markdown",
   "metadata": {},
   "source": [
    "# Some References\n",
    "***\n",
    "\n",
    "1. [Wikipedia's Logistic Regression Article](https://en.wikipedia.org/wiki/Logistic_regression)\n",
    "2. [Coursera Andrew Ng's Machine Learning Course ~ Logistic Regression](https://www.coursera.org/)\n",
    "3. [Wikipedia's Cross Entropy Article](https://en.wikipedia.org/wiki/Cross_entropy)\n",
    "4. [Wikipedia's Gradient Descent Article](https://en.wikipedia.org/wiki/Gradient_descent)\n",
    "5. [Wikipedia's Confusion Matrix Article](https://en.wikipedia.org/wiki/Confusion_matrix)"
   ]
  }
 ],
 "metadata": {
  "kernelspec": {
   "display_name": "Python 3",
   "language": "python",
   "name": "python3"
  },
  "language_info": {
   "codemirror_mode": {
    "name": "ipython",
    "version": 3
   },
   "file_extension": ".py",
   "mimetype": "text/x-python",
   "name": "python",
   "nbconvert_exporter": "python",
   "pygments_lexer": "ipython3",
   "version": "3.8.2"
  }
 },
 "nbformat": 4,
 "nbformat_minor": 4
}
