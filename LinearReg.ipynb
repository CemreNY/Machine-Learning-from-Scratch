{
 "cells": [
  {
   "cell_type": "markdown",
   "metadata": {},
   "source": [
    "# LinearReg  Test\n",
    "***\n",
    "In this notebook, I'll try to use my linear regression implementation (LinearReg) over a simple 2-features dataset\n",
    "\n",
    "First of all, we import:\n",
    "1. *numpy* \n",
    "2. *matplotlib.pyplot* \n",
    "3. *pandas* \n",
    "4. *LinearReg* (personal implementation)"
   ]
  },
  {
   "cell_type": "code",
   "execution_count": 1,
   "metadata": {},
   "outputs": [],
   "source": [
    "import numpy as np\n",
    "import pandas as pd\n",
    "import matplotlib.pyplot as plt\n",
    "from LinearReg import LinearReg as lr"
   ]
  },
  {
   "cell_type": "markdown",
   "metadata": {},
   "source": [
    "Using pandas we'll load our data:"
   ]
  },
  {
   "cell_type": "code",
   "execution_count": 2,
   "metadata": {},
   "outputs": [],
   "source": [
    "data = pd.read_csv('./datasets/LinearReg.csv')"
   ]
  },
  {
   "cell_type": "markdown",
   "metadata": {},
   "source": [
    "Let's see how it looks like"
   ]
  },
  {
   "cell_type": "code",
   "execution_count": 3,
   "metadata": {},
   "outputs": [
    {
     "name": "stdout",
     "output_type": "stream",
     "text": [
      "   ID       x        y\n",
      "0   0  0.0000  5.59209\n",
      "1   1  0.4450  6.13800\n",
      "2   2  0.6230  6.69600\n",
      "3   3  1.2727  6.78900\n"
     ]
    }
   ],
   "source": [
    "print(data.head(4))"
   ]
  },
  {
   "cell_type": "markdown",
   "metadata": {},
   "source": [
    "For better insight and since the data consists of one feature only, we can plot it and see how y varies according to x, to do so, first we convert our DataFrame to a numpy array (cutting the ID column) and then plot using *pyplot*:"
   ]
  },
  {
   "cell_type": "code",
   "execution_count": 4,
   "metadata": {},
   "outputs": [
    {
     "name": "stdout",
     "output_type": "stream",
     "text": [
      "[0.       0.445    0.623    1.2727   1.78     2.225    2.67     3.115\n",
      " 3.56     4.005    4.45     4.895    5.34     5.251    6.4347   6.675\n",
      " 6.7284   0.       0.445    0.89     1.335    1.78     2.225    3.026\n",
      " 3.115    3.56     3.649    4.45     5.2243   5.34     5.645626 6.23\n",
      " 6.43826  7.12     0.       0.445    0.89     1.335    1.78     2.225\n",
      " 2.67     3.115    3.56     4.005    4.45     4.895    4.8327   5.9363\n",
      " 6.23     6.497    7.12    ]\n",
      "[ 5.59209  6.138    6.696    6.789    7.533    7.905    8.463    8.69085\n",
      "  9.3093   9.9231  10.3416  11.16    11.532   11.625   12.10116 12.834\n",
      " 14.1639   5.3661   5.8311   6.2961   6.7611   7.2261   7.6911   8.1561\n",
      "  8.6211   9.0861   9.5511  10.0161  10.4811  10.9461  11.4111  11.8761\n",
      " 12.3411  12.8061   5.59209  6.138    6.696    6.789    7.533    7.8585\n",
      "  8.463    8.69085  9.5976   9.9231  10.3416  11.16    11.532   11.625\n",
      " 12.10116 12.4899  14.1639 ]\n"
     ]
    }
   ],
   "source": [
    "np_data = data.to_numpy()\n",
    "inp = np_data[:, 1] # 2nd colunm\n",
    "out = np_data[:, 2] # 3rd column\n",
    "print(inp) \n",
    "print(out)"
   ]
  },
  {
   "cell_type": "markdown",
   "metadata": {},
   "source": [
    "Now let's plot:"
   ]
  },
  {
   "cell_type": "code",
   "execution_count": 5,
   "metadata": {},
   "outputs": [
    {
     "data": {
      "image/png": "[encoded data removed]",
      "text/plain": [
       "<Figure size 880x480 with 1 Axes>"
      ]
     },
     "metadata": {},
     "output_type": "display_data"
    }
   ],
   "source": [
    "fig = plt.figure(figsize=(11, 6), dpi=80, facecolor='#e1e1e1')\n",
    "ax = fig.add_subplot(111)\n",
    "ax.set_facecolor('#1d1d1d')\n",
    "\n",
    "ax.scatter(inp, out, marker='X', c='w')\n",
    "\n",
    "plt.ylim((2, 16))\n",
    "plt.xlim((0, 8))\n",
    "\n",
    "plt.show()"
   ]
  },
  {
   "cell_type": "markdown",
   "metadata": {},
   "source": [
    "As we can easily observe, the data can be fit with a linear function, to train our model, first we'll need to add the bias column:"
   ]
  },
  {
   "cell_type": "code",
   "execution_count": 6,
   "metadata": {},
   "outputs": [
    {
     "name": "stdout",
     "output_type": "stream",
     "text": [
      "(51, 2)\n",
      "[[1.     0.    ]\n",
      " [1.     0.445 ]\n",
      " [1.     0.623 ]\n",
      " [1.     1.2727]\n",
      " [1.     1.78  ]]\n"
     ]
    }
   ],
   "source": [
    "X = inp.reshape(-1, 1) # make matrix\n",
    "X = np.insert(X, [0], 1, axis=1) # add bias ~ 1 feature\n",
    "y = out\n",
    "\n",
    "print(X.shape)\n",
    "print(X[:5, :]) # see the bias ~ column"
   ]
  },
  {
   "cell_type": "markdown",
   "metadata": {},
   "source": [
    "Then we create a *LinearReg* model and fit the data, the solver use stochastic gradient-descent though you can set a custom batch_size i.e. to use full gradient-descent you can just set batch_size to the number of samples in the training data (X.shape[0] here):"
   ]
  },
  {
   "cell_type": "code",
   "execution_count": 17,
   "metadata": {},
   "outputs": [
    {
     "name": "stdout",
     "output_type": "stream",
     "text": [
      "iteration  0  error =  42.96025663526839\n",
      "iteration  1  error =  39.77319435277572\n",
      "iteration  2  error =  36.82402651637168\n",
      "iteration  3  error =  34.09493208256782\n",
      "iteration  4  error =  31.56942866077218\n",
      "iteration  5  error =  29.232271749990137\n",
      "iteration  6  error =  27.069361572070676\n",
      "iteration  7  error =  25.067656928120467\n",
      "iteration  8  error =  23.215095548022877\n",
      "iteration  9  error =  21.500520443041385\n",
      "iteration  10  error =  19.913611808502022\n",
      "iteration  11  error =  18.444824057765832\n",
      "iteration  12  error =  17.085327600333002\n",
      "iteration  13  error =  15.826955006160683\n",
      "iteration  14  error =  14.66215122530588\n",
      "iteration  15  error =  13.583927556992135\n",
      "iteration  16  error =  12.585819085297475\n",
      "iteration  17  error =  11.661845320014013\n",
      "iteration  18  error =  10.806473800969849\n",
      "iteration  19  error =  10.014586442351163\n",
      "iteration  20  error =  9.28144841043221\n",
      "iteration  21  error =  8.602679343715511\n",
      "iteration  22  error =  7.974226738900905\n",
      "iteration  23  error =  7.392341339429737\n",
      "iteration  24  error =  6.853554375670954\n",
      "iteration  25  error =  6.354656517205805\n",
      "iteration  26  error =  5.892678408197616\n",
      "iteration  27  error =  5.4648726665671585\n",
      "iteration  28  error =  5.06869723669349\n",
      "iteration  29  error =  4.701799993679589\n",
      "iteration  30  error =  4.362004504913242\n",
      "iteration  31  error =  4.047296861764219\n",
      "iteration  32  error =  3.7558135008324314\n",
      "iteration  33  error =  3.485829940238749\n",
      "iteration  34  error =  3.2357503620689165\n",
      "iteration  35  error =  3.0040979772751473\n",
      "iteration  36  error =  2.7895061141421555\n",
      "iteration  37  error =  2.5907099758642165\n",
      "iteration  38  error =  2.406539016884395\n",
      "iteration  39  error =  2.2359098914419575\n",
      "iteration  40  error =  2.077819931282503\n",
      "iteration  41  error =  1.9313411127290196\n",
      "iteration  42  error =  1.795614476311055\n",
      "iteration  43  error =  1.6698449649220044\n",
      "iteration  44  error =  1.5532966490379057\n",
      "iteration  45  error =  1.445288309901434\n",
      "iteration  46  error =  1.3451893537660686\n",
      "iteration  47  error =  1.2524160323215754\n",
      "iteration  48  error =  1.1664279462951967\n",
      "iteration  49  error =  1.0867248109550558\n",
      "iteration  50  error =  1.0128434638436195\n",
      "iteration  51  error =  0.9443550965498718\n",
      "iteration  52  error =  0.8808626936978563\n",
      "iteration  53  error =  0.8219986635951371\n",
      "iteration  54  error =  0.7674226461552044\n",
      "iteration  55  error =  0.7168194847900629\n",
      "iteration  56  error =  0.6698973499699784\n",
      "iteration  57  error =  0.6263860030726157\n",
      "iteration  58  error =  0.5860351899993858\n",
      "iteration  59  error =  0.5486131548279577\n",
      "iteration  60  error =  0.513905264501404\n",
      "iteration  61  error =  0.48171273623089517\n",
      "iteration  62  error =  0.4518514599143589\n",
      "iteration  63  error =  0.4241509084519007\n",
      "iteration  64  error =  0.3984531293736392\n",
      "iteration  65  error =  0.3746118116902006\n",
      "iteration  66  error =  0.3524914223334603\n",
      "iteration  67  error =  0.33196640697806673\n",
      "iteration  68  error =  0.31292045042538297\n",
      "iteration  69  error =  0.29524579209316254\n",
      "iteration  70  error =  0.2788425924887559\n",
      "iteration  71  error =  0.26361834685294855\n",
      "iteration  72  error =  0.24948734244757478\n",
      "iteration  73  error =  0.23637015622460456\n",
      "iteration  74  error =  0.22419318985902903\n",
      "iteration  75  error =  0.212888239354139\n",
      "iteration  76  error =  0.20239209663703628\n",
      "iteration  77  error =  0.1926461807557338\n",
      "iteration  78  error =  0.18359619646818914\n",
      "iteration  79  error =  0.17519181817914423\n",
      "iteration  80  error =  0.16738639733375027\n",
      "iteration  81  error =  0.16013669151854368\n",
      "iteration  82  error =  0.1534026136513254\n",
      "iteration  83  error =  0.14714699976261375\n",
      "iteration  84  error =  0.1413353939833915\n",
      "iteration  85  error =  0.13593584945749587\n",
      "iteration  86  error =  0.13091874399286052\n",
      "iteration  87  error =  0.12625660935447844\n",
      "iteration  88  error =  0.12192397318397061\n",
      "iteration  89  error =  0.1178972126065095\n",
      "iteration  90  error =  0.11415441865601768\n",
      "iteration  91  error =  0.11067527071448115\n",
      "iteration  92  error =  0.10744092022126044\n",
      "iteration  93  error =  0.10443388296383471\n",
      "iteration  94  error =  0.10163793931280328\n",
      "iteration  95  error =  0.09903804181150301\n",
      "iteration  96  error =  0.09662022957458326\n",
      "iteration  97  error =  0.09437154899056305\n",
      "iteration  98  error =  0.09227998026103823\n",
      "iteration  99  error =  0.09033436934402915\n",
      "iteration  100  error =  0.08852436490117861\n",
      "iteration  101  error =  0.08684035987831902\n",
      "iteration  102  error =  0.08527343737650607\n",
      "iteration  103  error =  0.08381532049613775\n",
      "iteration  104  error =  0.0824583258603847\n",
      "iteration  105  error =  0.08119532054600814\n",
      "iteration  106  error =  0.080019682169852\n",
      "iteration  107  error =  0.07892526189800815\n",
      "iteration  108  error =  0.07790635016195403\n",
      "iteration  109  error =  0.07695764488198617\n",
      "Convergence!\n",
      "Hakim\n",
      "Hakim\n",
      "Hakim\n",
      "Hakim\n",
      "training_accuracy =  0.7813309548613566 average distance =  0.28479545816294155\n"
     ]
    }
   ],
   "source": [
    "model = lr().fit(X, y, verbose=1, tol=1e-3, learning_rate=0.11, regularization_rate=0, max_iter=1000,\n",
    "                batch_size = X.shape[0])\n",
    "training_accuracy, d_avg = model.score(X, y, tol=0.8)\n",
    "print('training_accuracy = ', training_accuracy, 'average distance = ', d_avg)"
   ]
  },
  {
   "cell_type": "markdown",
   "metadata": {},
   "source": [
    "The LinearReg.score(X, y, tol) function compute the accuracy based on the average tolerable amount of distance between the predicted values and the original ones (in y), if the (average distance = tol) then the accuracy will be 0.5, if the average distance is 0 the accuracy will take 1 (well fit), said that way, the function we seek is surely involving and exp() expression, I've come up with this function, fist we compute the average distance between the predictions (y_p) and the real values (y):\n",
    "***\n",
    "\\begin{equation*}\n",
    "d_{avg} =  \\frac {\\sum_{i=1}^m |y_p[i] - y[i]|} {m}\n",
    "\\end{equation*}\n",
    "***\n",
    "Then we compute the precision ( of tolerance *tol* ) using:\n",
    "***\n",
    "\\begin{equation*}\n",
    "P_{tol} = exp(\\frac{-ln(2) * d_{avg} } {tol})\n",
    "\\end{equation*}\n",
    "***\n",
    "Remark that if *d_avg* is equal to *tol* then:\n",
    "\n",
    "\\begin{equation*}\n",
    "P_{tol} = e^{-ln2} = \\frac{1} {e^{ln2}} = \\frac{1}{2} = 0.5\n",
    "\\end{equation*}\n",
    "***\n",
    "\n",
    "**m**: the number of samples to score over.\n",
    "\n",
    "Next we plot our model since it's a 1-feature only then we can easily do it: \n"
   ]
  },
  {
   "cell_type": "code",
   "execution_count": 8,
   "metadata": {},
   "outputs": [],
   "source": [
    "x_range = np.arange(0, 8, 0.1) # 2 points would be enough since it's linear but it's okay\n",
    "x_featured = np.insert(x_range.reshape(-1, 1), [0], 1, axis=1) # insert bias to predict\n",
    "y_range = model.predict(x_featured)"
   ]
  },
  {
   "cell_type": "markdown",
   "metadata": {},
   "source": [
    "Now let's plot:"
   ]
  },
  {
   "cell_type": "code",
   "execution_count": 9,
   "metadata": {},
   "outputs": [
    {
     "data": {
      "image/png": "[encoded data removed]",
      "text/plain": [
       "<Figure size 880x480 with 1 Axes>"
      ]
     },
     "metadata": {},
     "output_type": "display_data"
    }
   ],
   "source": [
    "fig = plt.figure(figsize=(11, 6), dpi=80, facecolor='#e1e1e1')\n",
    "ax = fig.add_subplot(111)\n",
    "ax.set_facecolor('#1d1d1d')\n",
    "\n",
    "ax.scatter(inp, out, marker='X', c='w')\n",
    "ax.scatter(x_range, y_range, marker='.', c='w')\n",
    "\n",
    "plt.ylim((2, 16))\n",
    "plt.xlim((0, 8))\n",
    "\n",
    "plt.show()"
   ]
  }
 ],
 "metadata": {
  "kernelspec": {
   "display_name": "Python 3",
   "language": "python",
   "name": "python3"
  },
  "language_info": {
   "codemirror_mode": {
    "name": "ipython",
    "version": 3
   },
   "file_extension": ".py",
   "mimetype": "text/x-python",
   "name": "python",
   "nbconvert_exporter": "python",
   "pygments_lexer": "ipython3",
   "version": "3.8.2"
  }
 },
 "nbformat": 4,
 "nbformat_minor": 4
}
